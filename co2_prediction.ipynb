{
  "cells": [
    {
      "cell_type": "markdown",
      "metadata": {
        "id": "3LnLggENF54E"
      },
      "source": [
        "# CO2-Prediction in Real Estate"
      ]
    },
    {
      "cell_type": "markdown",
      "metadata": {
        "id": "O2mFGMcVF54H"
      },
      "source": [
        "## Initiales Setup"
      ]
    },
    {
      "cell_type": "code",
      "execution_count": null,
      "metadata": {
        "id": "21wmh3ohF54I"
      },
      "outputs": [],
      "source": [
        "# Importieren der benötigten Algorithmen und Software-Libraries\n",
        "import pandas as pd\n",
        "import matplotlib.pyplot as plt\n",
        "import seaborn as sns\n",
        "import numpy as np\n",
        "from sklearn.model_selection import train_test_split\n",
        "from sklearn.tree import DecisionTreeRegressor, plot_tree\n",
        "from sklearn.ensemble import RandomForestRegressor\n",
        "from sklearn.metrics import mean_squared_error, mean_absolute_percentage_error\n",
        "from keras.models import Sequential\n",
        "from keras.layers import Dense\n",
        "from keras.optimizers import Adam"
      ]
    },
    {
      "cell_type": "code",
      "execution_count": null,
      "metadata": {
        "id": "oIfut8jXF54K"
      },
      "outputs": [],
      "source": [
        "# Laden der Daten\n",
        "df = pd.read_csv(\"https://raw.githubusercontent.com/casbdai/datasets/main/co2_data.csv\")"
      ]
    },
    {
      "cell_type": "markdown",
      "metadata": {
        "id": "XwPTFSLuF54K"
      },
      "source": [
        "## Datenexploration"
      ]
    },
    {
      "cell_type": "code",
      "execution_count": null,
      "metadata": {
        "id": "UC40xVZdF54K"
      },
      "outputs": [],
      "source": [
        "df.head()"
      ]
    },
    {
      "cell_type": "code",
      "execution_count": null,
      "metadata": {
        "id": "cN8pEGOuF54L"
      },
      "outputs": [],
      "source": [
        "df.info()"
      ]
    },
    {
      "cell_type": "code",
      "execution_count": null,
      "metadata": {
        "id": "k3RBXXNCF54O"
      },
      "outputs": [],
      "source": [
        "# Erstellen eines Histogramms\n",
        "df['CO2'].hist(bins=30)\n",
        "plt.title('Distribution of CO2 Emissions per m2 EBF')\n",
        "plt.xlabel('CO2 Emissions per m2 EBF')\n",
        "plt.ylabel('Frequency')\n",
        "plt.show()"
      ]
    },
    {
      "cell_type": "markdown",
      "metadata": {
        "id": "P3sD0RK_F54P"
      },
      "source": [
        "## Lab Session 1: Trainieren eines ersten Entscheidungsbaums"
      ]
    },
    {
      "cell_type": "code",
      "execution_count": null,
      "metadata": {
        "id": "9V9mmTtiF54P"
      },
      "outputs": [],
      "source": [
        "# Definieren des \"Outcomes\" und der \"Features\"\n",
        "X = df.drop('CO2', axis=1)\n",
        "y = df['CO2']"
      ]
    },
    {
      "cell_type": "code",
      "source": [
        "X"
      ],
      "metadata": {
        "id": "NhQoQKENCbdG"
      },
      "execution_count": null,
      "outputs": []
    },
    {
      "cell_type": "code",
      "source": [
        "y"
      ],
      "metadata": {
        "id": "StkRrSChCeGO"
      },
      "execution_count": null,
      "outputs": []
    },
    {
      "cell_type": "code",
      "execution_count": null,
      "metadata": {
        "id": "nwpMX_r_F54P"
      },
      "outputs": [],
      "source": [
        "# Initialisieren des DecisionTree\n",
        "tree = DecisionTreeRegressor(max_depth=2)\n",
        "tree.fit(X, y)"
      ]
    },
    {
      "cell_type": "code",
      "execution_count": null,
      "metadata": {
        "id": "zeSiJMBWF54P"
      },
      "outputs": [],
      "source": [
        "# Plotten des Modells\n",
        "plt.figure(figsize=(12, 8))\n",
        "plot_tree(tree, feature_names=X.columns, filled=True)\n",
        "plt.show()"
      ]
    },
    {
      "cell_type": "code",
      "execution_count": null,
      "metadata": {
        "id": "KP5D7cQEF54P"
      },
      "outputs": [],
      "source": [
        "tree.predict(X)"
      ]
    },
    {
      "cell_type": "markdown",
      "metadata": {
        "id": "M_Su0YhbF54P"
      },
      "source": [
        "### Spielen wir ein bisschen mit Hyperparametern\n",
        "\n",
        "Zu variierende Hyperparameter\n",
        "\n",
        "- **max_depth:** zulässige Anzahl der maximalen Splits\n",
        "- **min_samples_leaf:** Die Mindestanzahl von Kunden, die in einem Blattknoten vorhanden sein müssen."
      ]
    },
    {
      "cell_type": "code",
      "execution_count": null,
      "metadata": {
        "id": "A-mOgteEF54P"
      },
      "outputs": [],
      "source": [
        "# Anpassen der Hyperparameter\n",
        "tree = DecisionTreeRegressor(max_depth=____, min_samples_leaf=____)\n",
        "tree.fit(X, y)"
      ]
    },
    {
      "cell_type": "code",
      "execution_count": null,
      "metadata": {
        "id": "iFQ6SAK3F54Q"
      },
      "outputs": [],
      "source": [
        "# Plotten des Modells\n",
        "plt.figure(figsize=(20, 15))\n",
        "plot_tree(tree, feature_names=X.columns, filled=True)\n",
        "plt.show()"
      ]
    },
    {
      "cell_type": "markdown",
      "metadata": {
        "id": "AOefusjfF54Q"
      },
      "source": [
        "## Lab Session 2: Bestimmen der Genauigkeit unserer Vorhersagen\n",
        "Um zu bestimmen, ob die gemachten Vorhersagen genau sind, müssen wir unsere Daten in Test- und Trainingsdaten splitten. Wir haben in einem vorherigen Schritt schon zwei Teildatensätze erstellt: y und X.\n",
        "Diese werden nun jeweils in einen Test und einen Trainingsteil überführt"
      ]
    },
    {
      "cell_type": "code",
      "execution_count": null,
      "metadata": {
        "id": "Lc53_KH9F54Q"
      },
      "outputs": [],
      "source": [
        "# Split the data into training and test sets\n",
        "X_train, X_test, y_train, y_test = train_test_split(X, y, test_size=0.3, random_state=2)"
      ]
    },
    {
      "cell_type": "code",
      "execution_count": null,
      "metadata": {
        "id": "ZKsW34bNF54Q"
      },
      "outputs": [],
      "source": [
        "# Initialize and train the regressor on the training set\n",
        "regressor = DecisionTreeRegressor(max_depth=10, random_state=2)\n",
        "regressor.fit(X_train, y_train)\n",
        "\n",
        "# Predict on the test set\n",
        "y_pred = regressor.predict(X_test)\n",
        "\n",
        "# Calculate RMSE\n",
        "rmse = np.sqrt(mean_squared_error(y_test, y_pred))\n",
        "print(f\"Root Mean Squared Error: {rmse}\")\n",
        "\n",
        "# Calculate MAPE\n",
        "mape = mean_absolute_percentage_error(y_test, y_pred)\n",
        "print(f\"Mean Absolute Percentage Error: {mape}\")"
      ]
    },
    {
      "cell_type": "markdown",
      "source": [
        "## Lab Session 3: Trainieren eines Neuralen Netzwerks zum Vergleich"
      ],
      "metadata": {
        "id": "8LrpoJLXC6N9"
      }
    },
    {
      "cell_type": "code",
      "source": [
        "# Definieren des Ne the model\n",
        "model = Sequential([\n",
        "    Dense(56, activation='relu', input_shape=(56,)),\n",
        "    Dense(32, activation='relu'),\n",
        "    Dense(16, activation='relu'),\n",
        "    Dense(1)\n",
        "])\n",
        "\n",
        "# Compile the model\n",
        "model.compile(optimizer=Adam(learning_rate=0.001),\n",
        "              loss='mean_squared_error')"
      ],
      "metadata": {
        "id": "YBhVQgGUftW7"
      },
      "execution_count": null,
      "outputs": []
    },
    {
      "cell_type": "code",
      "source": [
        "# Train the model\n",
        "model.fit(X_train, y_train, epochs=10, batch_size=16, validation_split=0.2)"
      ],
      "metadata": {
        "id": "P6B_tvu4ghf3"
      },
      "execution_count": null,
      "outputs": []
    },
    {
      "cell_type": "code",
      "source": [
        "y_pred =model.predict(X_test)\n",
        "\n",
        "# Calculate RMSE\n",
        "rmse = np.sqrt(mean_squared_error(y_test, y_pred))\n",
        "print(f\"Root Mean Squared Error: {rmse}\")\n",
        "\n",
        "# Calculate MAPE\n",
        "mape = mean_absolute_percentage_error(y_test, y_pred)\n",
        "print(f\"Mean Absolute Percentage Error: {mape}\")"
      ],
      "metadata": {
        "id": "BRXuA-d-gGr1"
      },
      "execution_count": null,
      "outputs": []
    }
  ],
  "metadata": {
    "kernelspec": {
      "display_name": "random-shit-4vF_N0_t-py3.11",
      "language": "python",
      "name": "python3"
    },
    "language_info": {
      "codemirror_mode": {
        "name": "ipython",
        "version": 3
      },
      "file_extension": ".py",
      "mimetype": "text/x-python",
      "name": "python",
      "nbconvert_exporter": "python",
      "pygments_lexer": "ipython3",
      "version": "3.11.7"
    },
    "colab": {
      "provenance": []
    }
  },
  "nbformat": 4,
  "nbformat_minor": 0
}